{
 "cells": [
  {
   "cell_type": "code",
   "execution_count": 19,
   "metadata": {},
   "outputs": [
    {
     "name": "stdout",
     "output_type": "stream",
     "text": [
      "TensorFlow GPU devices detected:\n",
      "PhysicalDevice(name='/physical_device:GPU:0', device_type='GPU')\n"
     ]
    }
   ],
   "source": [
    "from tensorflow.keras.preprocessing.image import ImageDataGenerator\n",
    "from tensorflow.keras.applications import ResNet50\n",
    "from tensorflow.keras.models import Model, Sequential\n",
    "from tensorflow.keras.layers import Dense, Flatten, Input\n",
    "from tensorflow.keras.optimizers import SGD\n",
    "from PIL import Image\n",
    "import tensorflow as tf\n",
    "\n",
    "# TensorFlowが認識しているGPUデバイスをリストアップ\n",
    "gpus = tf.config.list_physical_devices('GPU')\n",
    "if gpus:\n",
    "    print(\"TensorFlow GPU devices detected:\")\n",
    "    for gpu in gpus:\n",
    "        print(gpu)\n",
    "else:\n",
    "    print(\"No GPU device found.\")\n"
   ]
  },
  {
   "cell_type": "code",
   "execution_count": 20,
   "metadata": {},
   "outputs": [],
   "source": [
    "classes = ['men', 'women']\n",
    "nb_classes = len(classes)\n",
    "\n",
    "train_data_dir ='./dataset/train'\n",
    "validation_data_dir ='./dataset/val'\n",
    "\n",
    "nb_train_samples = 2000\n",
    "nb_validation_samples = 500\n",
    "img_width = 224\n",
    "img_height = 224\n",
    "batch_size = 16"
   ]
  },
  {
   "cell_type": "code",
   "execution_count": 21,
   "metadata": {},
   "outputs": [],
   "source": [
    "train_datagen = ImageDataGenerator(rescale=1.0 / 255, zoom_range=0.2, horizontal_flip=True)\n",
    "validation_datagen = ImageDataGenerator(rescale=1.0 / 255)"
   ]
  },
  {
   "cell_type": "code",
   "execution_count": 22,
   "metadata": {},
   "outputs": [
    {
     "name": "stdout",
     "output_type": "stream",
     "text": [
      "Found 2646 images belonging to 2 classes.\n",
      "Found 663 images belonging to 2 classes.\n"
     ]
    }
   ],
   "source": [
    "train_generator = train_datagen.flow_from_directory(\n",
    "    train_data_dir,\n",
    "    target_size=(img_width, img_height),\n",
    "    color_mode='rgb',\n",
    "    classes=classes,\n",
    "    class_mode='categorical',\n",
    "    batch_size=batch_size\n",
    ")\n",
    "validation_generator = validation_datagen.flow_from_directory(\n",
    "    validation_data_dir,\n",
    "    target_size=(img_width, img_height),\n",
    "    color_mode='rgb',\n",
    "    classes=classes,\n",
    "    class_mode='categorical',\n",
    "    batch_size=batch_size\n",
    "    )"
   ]
  },
  {
   "cell_type": "code",
   "execution_count": 23,
   "metadata": {},
   "outputs": [],
   "source": [
    "input_tensor = Input(shape=(img_width, img_height, 3))\n",
    "ResNet50 = ResNet50(include_top=False, weights='imagenet', input_tensor=input_tensor)"
   ]
  },
  {
   "cell_type": "code",
   "execution_count": 24,
   "metadata": {},
   "outputs": [],
   "source": [
    "top_model = Sequential()\n",
    "top_model.add(Flatten(input_shape=ResNet50.output_shape[1:]))\n",
    "top_model.add(Dense(nb_classes, activation='softmax'))"
   ]
  },
  {
   "cell_type": "code",
   "execution_count": 25,
   "metadata": {},
   "outputs": [],
   "source": [
    "model = Model(inputs=ResNet50.input, outputs=top_model(ResNet50.output))"
   ]
  },
  {
   "cell_type": "code",
   "execution_count": 26,
   "metadata": {},
   "outputs": [],
   "source": [
    "model.compile(\n",
    "    loss='categorical_crossentropy',\n",
    "    optimizer=SGD(lr=1e-3, momentum=0.9),\n",
    "    metrics=['accuracy']\n",
    ")"
   ]
  },
  {
   "cell_type": "code",
   "execution_count": 27,
   "metadata": {},
   "outputs": [
    {
     "name": "stdout",
     "output_type": "stream",
     "text": [
      "Epoch 1/30\n",
      "125/125 [==============================] - 33s 236ms/step - loss: 10.5944 - accuracy: 0.5775 - val_loss: 33704.8828 - val_accuracy: 0.5665\n",
      "Epoch 2/30\n",
      "125/125 [==============================] - 27s 212ms/step - loss: 6.2601 - accuracy: 0.5615 - val_loss: 0.6851 - val_accuracy: 0.5887\n",
      "Epoch 3/30\n",
      "125/125 [==============================] - 28s 223ms/step - loss: 4.3925 - accuracy: 0.5688 - val_loss: 0.6819 - val_accuracy: 0.5786\n",
      "Epoch 4/30\n",
      "125/125 [==============================] - 30s 241ms/step - loss: 4.0265 - accuracy: 0.5835 - val_loss: 0.6836 - val_accuracy: 0.5706\n",
      "Epoch 5/30\n",
      "125/125 [==============================] - 29s 228ms/step - loss: 2.8431 - accuracy: 0.6090 - val_loss: 0.6769 - val_accuracy: 0.5867\n",
      "Epoch 6/30\n",
      "125/125 [==============================] - 26s 205ms/step - loss: 1.7869 - accuracy: 0.5915 - val_loss: 0.6790 - val_accuracy: 0.5645\n",
      "Epoch 7/30\n",
      "125/125 [==============================] - 27s 214ms/step - loss: 1.8960 - accuracy: 0.6322 - val_loss: 47.5694 - val_accuracy: 0.5867\n",
      "Epoch 8/30\n",
      "125/125 [==============================] - 27s 215ms/step - loss: 1.9556 - accuracy: 0.6121 - val_loss: 1.4232 - val_accuracy: 0.6290\n",
      "Epoch 9/30\n",
      "125/125 [==============================] - 28s 218ms/step - loss: 1.4687 - accuracy: 0.6337 - val_loss: 62.8694 - val_accuracy: 0.5282\n",
      "Epoch 10/30\n",
      "125/125 [==============================] - 26s 209ms/step - loss: 1.5202 - accuracy: 0.6226 - val_loss: 6.8619 - val_accuracy: 0.5484\n",
      "Epoch 11/30\n",
      "125/125 [==============================] - 25s 201ms/step - loss: 1.4027 - accuracy: 0.6256 - val_loss: 2.4897 - val_accuracy: 0.6089\n",
      "Epoch 12/30\n",
      "125/125 [==============================] - 27s 214ms/step - loss: 1.2257 - accuracy: 0.6405 - val_loss: 2.7074 - val_accuracy: 0.5887\n",
      "Epoch 13/30\n",
      "125/125 [==============================] - 26s 208ms/step - loss: 1.2372 - accuracy: 0.6417 - val_loss: 3.0601 - val_accuracy: 0.6391\n",
      "Epoch 14/30\n",
      "125/125 [==============================] - 27s 213ms/step - loss: 1.1717 - accuracy: 0.6548 - val_loss: 2.5119 - val_accuracy: 0.5887\n",
      "Epoch 15/30\n",
      "125/125 [==============================] - 26s 206ms/step - loss: 0.8784 - accuracy: 0.6598 - val_loss: 1.2322 - val_accuracy: 0.6028\n",
      "Epoch 16/30\n",
      "125/125 [==============================] - 26s 206ms/step - loss: 0.9962 - accuracy: 0.6575 - val_loss: 1.0151 - val_accuracy: 0.6109\n",
      "Epoch 17/30\n",
      "125/125 [==============================] - 26s 210ms/step - loss: 0.8601 - accuracy: 0.6495 - val_loss: 0.9168 - val_accuracy: 0.6089\n",
      "Epoch 18/30\n",
      "125/125 [==============================] - 26s 207ms/step - loss: 0.9650 - accuracy: 0.6643 - val_loss: 1.1648 - val_accuracy: 0.6310\n",
      "Epoch 19/30\n",
      "125/125 [==============================] - 26s 208ms/step - loss: 0.8884 - accuracy: 0.6583 - val_loss: 1.1134 - val_accuracy: 0.6250\n",
      "Epoch 20/30\n",
      "125/125 [==============================] - 26s 211ms/step - loss: 0.8175 - accuracy: 0.6785 - val_loss: 0.7012 - val_accuracy: 0.6270\n",
      "Epoch 21/30\n",
      "125/125 [==============================] - 25s 200ms/step - loss: 0.7779 - accuracy: 0.6648 - val_loss: 2.1522 - val_accuracy: 0.6149\n",
      "Epoch 22/30\n",
      "125/125 [==============================] - 26s 205ms/step - loss: 0.7853 - accuracy: 0.6894 - val_loss: 1.6504 - val_accuracy: 0.6351\n",
      "Epoch 23/30\n",
      "125/125 [==============================] - 26s 209ms/step - loss: 0.8311 - accuracy: 0.6623 - val_loss: 0.7199 - val_accuracy: 0.6331\n",
      "Epoch 24/30\n",
      "125/125 [==============================] - 26s 209ms/step - loss: 0.6861 - accuracy: 0.6930 - val_loss: 0.8040 - val_accuracy: 0.6452\n",
      "Epoch 25/30\n",
      "125/125 [==============================] - 26s 206ms/step - loss: 0.7196 - accuracy: 0.6819 - val_loss: 0.6415 - val_accuracy: 0.6875\n",
      "Epoch 26/30\n",
      "125/125 [==============================] - 26s 211ms/step - loss: 0.7069 - accuracy: 0.6975 - val_loss: 0.6895 - val_accuracy: 0.6774\n",
      "Epoch 27/30\n",
      "125/125 [==============================] - 27s 219ms/step - loss: 0.6714 - accuracy: 0.7055 - val_loss: 0.6440 - val_accuracy: 0.6431\n",
      "Epoch 28/30\n",
      "125/125 [==============================] - 27s 218ms/step - loss: 0.6175 - accuracy: 0.7090 - val_loss: 0.6420 - val_accuracy: 0.6754\n",
      "Epoch 29/30\n",
      "125/125 [==============================] - 28s 227ms/step - loss: 0.6001 - accuracy: 0.7100 - val_loss: 1.3406 - val_accuracy: 0.6270\n",
      "Epoch 30/30\n",
      "125/125 [==============================] - 29s 233ms/step - loss: 0.6967 - accuracy: 0.7035 - val_loss: 0.6305 - val_accuracy: 0.6694\n"
     ]
    }
   ],
   "source": [
    "history = model.fit(\n",
    "    train_generator,\n",
    "    steps_per_epoch=nb_train_samples // batch_size,\n",
    "    epochs=30,\n",
    "    validation_data=validation_generator,\n",
    "    validation_steps=nb_validation_samples // batch_size\n",
    ")"
   ]
  },
  {
   "cell_type": "code",
   "execution_count": 28,
   "metadata": {},
   "outputs": [],
   "source": [
    "model.save('model.h5')"
   ]
  }
 ],
 "metadata": {
  "kernelspec": {
   "display_name": "pyt",
   "language": "python",
   "name": "python3"
  },
  "language_info": {
   "codemirror_mode": {
    "name": "ipython",
    "version": 3
   },
   "file_extension": ".py",
   "mimetype": "text/x-python",
   "name": "python",
   "nbconvert_exporter": "python",
   "pygments_lexer": "ipython3",
   "version": "3.10.13"
  }
 },
 "nbformat": 4,
 "nbformat_minor": 2
}
